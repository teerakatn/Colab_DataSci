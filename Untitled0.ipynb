{
  "cells": [
    {
      "cell_type": "code",
      "execution_count": null,
      "metadata": {
        "colab": {
          "base_uri": "https://localhost:8080/"
        },
        "id": "z7vY4EtJ_EHE",
        "outputId": "3e177913-f381-457d-85c1-f0d4a4c6e506"
      },
      "outputs": [
        {
          "name": "stdout",
          "output_type": "stream",
          "text": [
            "Hello World\n"
          ]
        }
      ],
      "source": [
        "print('Hello World')"
      ]
    },
    {
      "cell_type": "code",
      "execution_count": null,
      "metadata": {
        "colab": {
          "base_uri": "https://localhost:8080/"
        },
        "id": "U0fQAaCj_nWQ",
        "outputId": "8a7b00dd-511e-4be6-a31e-a5f569a6643f"
      },
      "outputs": [
        {
          "name": "stdout",
          "output_type": "stream",
          "text": [
            "single quote\n"
          ]
        }
      ],
      "source": [
        "print('single quote')"
      ]
    },
    {
      "cell_type": "code",
      "execution_count": null,
      "metadata": {
        "colab": {
          "base_uri": "https://localhost:8080/"
        },
        "id": "bGtfSTvBAKDQ",
        "outputId": "742b6163-3b18-4311-e868-d8ad616ddf7c"
      },
      "outputs": [
        {
          "output_type": "stream",
          "name": "stdout",
          "text": [
            "helloworld\n",
            "helloworld\n",
            "hello world ! R2DE\n"
          ]
        }
      ],
      "source": [
        "print('hello'+'world')\n",
        "print('hello'+\"\"+'world')\n",
        "print('hello','world','!','R2DE')"
      ]
    },
    {
      "cell_type": "code",
      "execution_count": null,
      "metadata": {
        "colab": {
          "base_uri": "https://localhost:8080/"
        },
        "id": "Mwc7A8jXCb8h",
        "outputId": "9efdda86-2e14-46c0-a475-58f7e659be04"
      },
      "outputs": [
        {
          "output_type": "execute_result",
          "data": {
            "text/plain": [
              "1.0"
            ]
          },
          "metadata": {},
          "execution_count": 4
        }
      ],
      "source": [
        "#int  จำนวนจริง\n",
        "a=1\n",
        "#float ทศนิยม\n",
        "float(a)"
      ]
    },
    {
      "cell_type": "code",
      "execution_count": null,
      "metadata": {
        "colab": {
          "base_uri": "https://localhost:8080/",
          "height": 34
        },
        "id": "FQKhz-s9CsEA",
        "outputId": "1947f334-91c3-439d-e241-d5276d556d5a"
      },
      "outputs": [
        {
          "output_type": "execute_result",
          "data": {
            "text/plain": [
              "'1'"
            ],
            "application/vnd.google.colaboratory.intrinsic+json": {
              "type": "string"
            }
          },
          "metadata": {},
          "execution_count": 39
        }
      ],
      "source": [
        "#string ข้อความ\n",
        "str(a)"
      ]
    },
    {
      "cell_type": "code",
      "execution_count": null,
      "metadata": {
        "colab": {
          "base_uri": "https://localhost:8080/",
          "height": 34
        },
        "id": "NnGjzv3XDBWJ",
        "outputId": "e60d48e6-c2c3-44d3-e5de-2a757926eedb"
      },
      "outputs": [
        {
          "output_type": "execute_result",
          "data": {
            "text/plain": [
              "'11'"
            ],
            "application/vnd.google.colaboratory.intrinsic+json": {
              "type": "string"
            }
          },
          "metadata": {},
          "execution_count": 40
        }
      ],
      "source": [
        "str(a)+'1' #มันคือ  strimg"
      ]
    },
    {
      "cell_type": "code",
      "execution_count": null,
      "metadata": {
        "id": "DFxzFsoSDf25",
        "colab": {
          "base_uri": "https://localhost:8080/"
        },
        "outputId": "1ce0f664-373a-4052-c164-27d39f0af0d5"
      },
      "outputs": [
        {
          "output_type": "stream",
          "name": "stdout",
          "text": [
            "6\n"
          ]
        }
      ],
      "source": [
        "print(1+2+3) #การบวกint"
      ]
    },
    {
      "cell_type": "code",
      "execution_count": null,
      "metadata": {
        "colab": {
          "base_uri": "https://localhost:8080/"
        },
        "id": "VUMJOe-CDxx4",
        "outputId": "66dc01ba-9cc3-49f8-c560-5ba28b802e6a"
      },
      "outputs": [
        {
          "output_type": "execute_result",
          "data": {
            "text/plain": [
              "False"
            ]
          },
          "metadata": {},
          "execution_count": 3
        }
      ],
      "source": [
        "bool(a)"
      ]
    },
    {
      "cell_type": "code",
      "execution_count": null,
      "metadata": {
        "colab": {
          "base_uri": "https://localhost:8080/"
        },
        "id": "GnC-0O7ND14I",
        "outputId": "21ea0901-d108-46cf-8883-05ae42829504"
      },
      "outputs": [
        {
          "output_type": "execute_result",
          "data": {
            "text/plain": [
              "(False, True, True)"
            ]
          },
          "metadata": {},
          "execution_count": 35
        }
      ],
      "source": [
        "bool(0),bool(-1),bool(1)"
      ]
    },
    {
      "cell_type": "code",
      "execution_count": null,
      "metadata": {
        "colab": {
          "base_uri": "https://localhost:8080/"
        },
        "id": "afU8kU2pD4ho",
        "outputId": "cd8f8474-bdd0-4c00-e40e-6a02576980ee"
      },
      "outputs": [
        {
          "output_type": "execute_result",
          "data": {
            "text/plain": [
              "False"
            ]
          },
          "metadata": {},
          "execution_count": 34
        }
      ],
      "source": [
        "bool(None) #none = false"
      ]
    },
    {
      "cell_type": "code",
      "execution_count": null,
      "metadata": {
        "colab": {
          "base_uri": "https://localhost:8080/"
        },
        "id": "Yq-z1lSlEEGw",
        "outputId": "7928a4cc-f94f-455a-e930-812bf371f437"
      },
      "outputs": [
        {
          "output_type": "execute_result",
          "data": {
            "text/plain": [
              "int"
            ]
          },
          "metadata": {},
          "execution_count": 43
        }
      ],
      "source": [
        "type(a) #ประเภท"
      ]
    },
    {
      "cell_type": "code",
      "execution_count": null,
      "metadata": {
        "colab": {
          "base_uri": "https://localhost:8080/"
        },
        "id": "7FhC7esDEHRR",
        "outputId": "d7d33e40-3f68-4e42-f1d6-fcde46febf47"
      },
      "outputs": [
        {
          "output_type": "execute_result",
          "data": {
            "text/plain": [
              "str"
            ]
          },
          "metadata": {},
          "execution_count": 32
        }
      ],
      "source": [
        "b='python'\n",
        "type(b)"
      ]
    },
    {
      "cell_type": "code",
      "execution_count": null,
      "metadata": {
        "id": "fG5R8PjMEhgR",
        "colab": {
          "base_uri": "https://localhost:8080/"
        },
        "outputId": "758dcec6-8a27-4bc8-b3a4-9cfe3270a594"
      },
      "outputs": [
        {
          "output_type": "execute_result",
          "data": {
            "text/plain": [
              "(bool, True)"
            ]
          },
          "metadata": {},
          "execution_count": 5
        }
      ],
      "source": [
        "hee=bool(3)\n",
        "type(hee),hee"
      ]
    },
    {
      "cell_type": "markdown",
      "metadata": {
        "id": "EVfWKLtvE7jI"
      },
      "source": [
        "# Python Data Structure"
      ]
    },
    {
      "cell_type": "code",
      "execution_count": null,
      "metadata": {
        "colab": {
          "base_uri": "https://localhost:8080/"
        },
        "id": "fyqklwQkFEsg",
        "outputId": "90f4a6c0-8888-4a1c-a54b-7b40dad287ab"
      },
      "outputs": [
        {
          "output_type": "stream",
          "name": "stdout",
          "text": [
            "1 <class 'int'>\n",
            "python <class 'str'>\n"
          ]
        }
      ],
      "source": [
        "#ทบทวนตัวเเปล\n",
        "print(a,type(a))\n",
        "print(b,type(b))"
      ]
    },
    {
      "cell_type": "code",
      "execution_count": null,
      "metadata": {
        "colab": {
          "base_uri": "https://localhost:8080/"
        },
        "id": "PMXIp1kgFN9J",
        "outputId": "57fd5a03-d196-4d34-8391-feb6ee1241f0"
      },
      "outputs": [
        {
          "output_type": "stream",
          "name": "stdout",
          "text": [
            "['t1', 't2']\n"
          ]
        }
      ],
      "source": [
        "from pickle import EMPTY_LIST\n",
        "#สร้าง list จาก []\n",
        "EMPTY_LIST=['t1','t2']\n",
        "print(EMPTY_LIST)"
      ]
    },
    {
      "cell_type": "code",
      "execution_count": null,
      "metadata": {
        "colab": {
          "base_uri": "https://localhost:8080/"
        },
        "id": "1E_QXiNhFjD5",
        "outputId": "dede1e99-65af-4d27-95a7-30fd1193448b"
      },
      "outputs": [
        {
          "output_type": "execute_result",
          "data": {
            "text/plain": [
              "['python', 1, 2, 3]"
            ]
          },
          "metadata": {},
          "execution_count": 46
        }
      ],
      "source": [
        "l=[b,a,a+1,a+2] #สร้าง list จากตัวเเปร\n",
        "l"
      ]
    },
    {
      "cell_type": "code",
      "execution_count": null,
      "metadata": {
        "colab": {
          "base_uri": "https://localhost:8080/"
        },
        "id": "Q7wKdXMBF3-R",
        "outputId": "25f7b263-cf45-4deb-e080-63f698441ffd"
      },
      "outputs": [
        {
          "output_type": "execute_result",
          "data": {
            "text/plain": [
              "4"
            ]
          },
          "metadata": {},
          "execution_count": 29
        }
      ],
      "source": [
        "len(l) #ดูจำนวนสมาชิก"
      ]
    },
    {
      "cell_type": "code",
      "execution_count": null,
      "metadata": {
        "colab": {
          "base_uri": "https://localhost:8080/",
          "height": 34
        },
        "id": "460w9lc6GHh4",
        "outputId": "7a271d20-48c4-4386-d751-bf2663472748"
      },
      "outputs": [
        {
          "output_type": "execute_result",
          "data": {
            "text/plain": [
              "'python'"
            ],
            "application/vnd.google.colaboratory.intrinsic+json": {
              "type": "string"
            }
          },
          "metadata": {},
          "execution_count": 34
        }
      ],
      "source": [
        "l[0] #เรียกดูค่า list ในบางช่อง"
      ]
    },
    {
      "cell_type": "code",
      "execution_count": null,
      "metadata": {
        "colab": {
          "base_uri": "https://localhost:8080/"
        },
        "id": "Jc2-rlJgGOMp",
        "outputId": "06fe9c72-a572-4468-f115-5c6a6195a967"
      },
      "outputs": [
        {
          "output_type": "execute_result",
          "data": {
            "text/plain": [
              "['python', 1, 2, 5]"
            ]
          },
          "metadata": {},
          "execution_count": 38
        }
      ],
      "source": [
        "l[3]=5 #เปลี่ยนค่า list ในสมาชิก\n",
        "l"
      ]
    },
    {
      "cell_type": "code",
      "execution_count": null,
      "metadata": {
        "colab": {
          "base_uri": "https://localhost:8080/"
        },
        "id": "4n6kmOmMGaWb",
        "outputId": "7af0ea45-9ef8-4323-fd93-4c5c4ad0b6cf"
      },
      "outputs": [
        {
          "output_type": "execute_result",
          "data": {
            "text/plain": [
              "['python', 1, 2, 5, ':)']"
            ]
          },
          "metadata": {},
          "execution_count": 39
        }
      ],
      "source": [
        "l.append(':)') #เพิ่มสมาชิก ต่อท้าย list\n",
        "l"
      ]
    },
    {
      "cell_type": "code",
      "execution_count": null,
      "metadata": {
        "colab": {
          "base_uri": "https://localhost:8080/"
        },
        "id": "M4Hv3D1LGv7w",
        "outputId": "96219c5e-9d84-4e87-ff8b-45acb5ba3878"
      },
      "outputs": [
        {
          "output_type": "execute_result",
          "data": {
            "text/plain": [
              "['python', 1, 2, 5]"
            ]
          },
          "metadata": {},
          "execution_count": 40
        }
      ],
      "source": [
        "#remove สมาชิกตัวสุดท้ายของ list ออก\n",
        "l.pop()\n",
        "l"
      ]
    },
    {
      "cell_type": "code",
      "execution_count": null,
      "metadata": {
        "id": "vf-s8v-UHSHA"
      },
      "outputs": [],
      "source": [
        "t=(0,1,2,3,4) #Tupleใช้เก็บข้อมูล ไม่สามารถเปลี่ยนเเปลงได้"
      ]
    },
    {
      "cell_type": "code",
      "execution_count": null,
      "metadata": {
        "colab": {
          "base_uri": "https://localhost:8080/"
        },
        "id": "SW12VSWKHjJp",
        "outputId": "d76a4548-8559-404a-89ac-98e8a06c0b23"
      },
      "outputs": [
        {
          "data": {
            "text/plain": [
              "5"
            ]
          },
          "execution_count": 31,
          "metadata": {},
          "output_type": "execute_result"
        }
      ],
      "source": [
        "len(t)"
      ]
    },
    {
      "cell_type": "code",
      "execution_count": null,
      "metadata": {
        "colab": {
          "base_uri": "https://localhost:8080/"
        },
        "id": "6wQiXu5VHrho",
        "outputId": "a662572e-cf8e-420e-eb91-0156aa88b905"
      },
      "outputs": [
        {
          "output_type": "execute_result",
          "data": {
            "text/plain": [
              "(0, 1, 2)"
            ]
          },
          "metadata": {},
          "execution_count": 2
        }
      ],
      "source": [
        "t[0:3]#การเรียกอ่านค่าของจำนวนTuple"
      ]
    },
    {
      "cell_type": "code",
      "execution_count": null,
      "metadata": {
        "colab": {
          "base_uri": "https://localhost:8080/"
        },
        "id": "bH3IZpF5H_XB",
        "outputId": "76250acf-e17b-4ffe-d4f8-0586ee5f647c"
      },
      "outputs": [
        {
          "data": {
            "text/plain": [
              "4"
            ]
          },
          "execution_count": 33,
          "metadata": {},
          "output_type": "execute_result"
        }
      ],
      "source": [
        "t[-1] # -1คือการดึงค่าตัวสุดท้ายของ list ออกมา"
      ]
    },
    {
      "cell_type": "code",
      "execution_count": null,
      "metadata": {
        "colab": {
          "base_uri": "https://localhost:8080/"
        },
        "id": "nZIwEXjGIOD4",
        "outputId": "1789ce89-0141-4d70-aefa-b29b64ff656c"
      },
      "outputs": [
        {
          "output_type": "execute_result",
          "data": {
            "text/plain": [
              "(2, 3, 4)"
            ]
          },
          "metadata": {},
          "execution_count": 49
        }
      ],
      "source": [
        "t[-3:]  #การเข้าถึงข้อมูลจากตัวที่3 จากท้ายสุดจนถึงตัวสุดท้าย"
      ]
    },
    {
      "cell_type": "code",
      "source": [
        "t[3:]"
      ],
      "metadata": {
        "colab": {
          "base_uri": "https://localhost:8080/"
        },
        "id": "or-59ZDTjR8Q",
        "outputId": "b28a7a39-af8e-443a-d9d5-af5eab932490"
      },
      "execution_count": null,
      "outputs": [
        {
          "output_type": "execute_result",
          "data": {
            "text/plain": [
              "(3, 4)"
            ]
          },
          "metadata": {},
          "execution_count": 10
        }
      ]
    },
    {
      "cell_type": "code",
      "execution_count": null,
      "metadata": {
        "colab": {
          "base_uri": "https://localhost:8080/"
        },
        "id": "_jydjqGZIsHZ",
        "outputId": "85e586f5-7395-40a1-de1f-8bbecdcedd08"
      },
      "outputs": [
        {
          "output_type": "execute_result",
          "data": {
            "text/plain": [
              "(0, 1, 2)"
            ]
          },
          "metadata": {},
          "execution_count": 8
        }
      ],
      "source": [
        "t[:-2] #การเข้าถึงข้อมูลจากตัวที่2 จากหน้าสุด"
      ]
    },
    {
      "cell_type": "code",
      "source": [
        "t[:2]"
      ],
      "metadata": {
        "colab": {
          "base_uri": "https://localhost:8080/"
        },
        "id": "MdAdVlKJjPJG",
        "outputId": "27c1100a-8134-4107-f2e0-480ad3c91aca"
      },
      "execution_count": null,
      "outputs": [
        {
          "output_type": "execute_result",
          "data": {
            "text/plain": [
              "(0, 1)"
            ]
          },
          "metadata": {},
          "execution_count": 9
        }
      ]
    },
    {
      "cell_type": "code",
      "source": [
        "t = (1, 2, [3, 4])\n",
        "t[2] =5  # TypeError: 'tuple' object does not support item assignment"
      ],
      "metadata": {
        "colab": {
          "base_uri": "https://localhost:8080/",
          "height": 159
        },
        "id": "tjFqeqPGgo48",
        "outputId": "c93c9649-c18f-4493-988a-ffa165d28b4d"
      },
      "execution_count": null,
      "outputs": [
        {
          "output_type": "error",
          "ename": "TypeError",
          "evalue": "'tuple' object does not support item assignment",
          "traceback": [
            "\u001b[0;31m---------------------------------------------------------------------------\u001b[0m",
            "\u001b[0;31mTypeError\u001b[0m                                 Traceback (most recent call last)",
            "\u001b[0;32m<ipython-input-7-b542f7e2cd3c>\u001b[0m in \u001b[0;36m<cell line: 0>\u001b[0;34m()\u001b[0m\n\u001b[1;32m      1\u001b[0m \u001b[0mt\u001b[0m \u001b[0;34m=\u001b[0m \u001b[0;34m(\u001b[0m\u001b[0;36m1\u001b[0m\u001b[0;34m,\u001b[0m \u001b[0;36m2\u001b[0m\u001b[0;34m,\u001b[0m \u001b[0;34m[\u001b[0m\u001b[0;36m3\u001b[0m\u001b[0;34m,\u001b[0m \u001b[0;36m4\u001b[0m\u001b[0;34m]\u001b[0m\u001b[0;34m)\u001b[0m\u001b[0;34m\u001b[0m\u001b[0;34m\u001b[0m\u001b[0m\n\u001b[0;32m----> 2\u001b[0;31m \u001b[0mt\u001b[0m\u001b[0;34m[\u001b[0m\u001b[0;36m2\u001b[0m\u001b[0;34m]\u001b[0m \u001b[0;34m=\u001b[0m\u001b[0;36m5\u001b[0m  \u001b[0;31m# TypeError: 'tuple' object does not support item assignment\u001b[0m\u001b[0;34m\u001b[0m\u001b[0;34m\u001b[0m\u001b[0m\n\u001b[0m",
            "\u001b[0;31mTypeError\u001b[0m: 'tuple' object does not support item assignment"
          ]
        }
      ]
    },
    {
      "cell_type": "markdown",
      "metadata": {
        "id": "LS9AQDm_JIDZ"
      },
      "source": [
        "# Dictionary\n"
      ]
    },
    {
      "cell_type": "code",
      "execution_count": null,
      "metadata": {
        "colab": {
          "base_uri": "https://localhost:8080/"
        },
        "id": "RkaS7YtaJQWI",
        "outputId": "66c220d6-642b-43fc-b887-6a04474d8c57"
      },
      "outputs": [
        {
          "output_type": "execute_result",
          "data": {
            "text/plain": [
              "{'A': 80, 'B': 70, 'C': 60, 'D': 50}"
            ]
          },
          "metadata": {},
          "execution_count": 11
        }
      ],
      "source": [
        "#สร้าง grade dictionary สำหรับตัดเกรด\n",
        "grade={\n",
        "    'A':80,\n",
        "    'B':70,\n",
        "    'C':60,\n",
        "    'D':50\n",
        "}\n",
        "grade"
      ]
    },
    {
      "cell_type": "code",
      "execution_count": null,
      "metadata": {
        "colab": {
          "base_uri": "https://localhost:8080/"
        },
        "id": "VcP3fbxpJ4Ug",
        "outputId": "13af5737-0b4e-461e-bd3e-af113ffda040"
      },
      "outputs": [
        {
          "output_type": "execute_result",
          "data": {
            "text/plain": [
              "80"
            ]
          },
          "metadata": {},
          "execution_count": 61
        }
      ],
      "source": [
        "grade['A']"
      ]
    },
    {
      "cell_type": "code",
      "execution_count": null,
      "metadata": {
        "colab": {
          "base_uri": "https://localhost:8080/"
        },
        "id": "oPE4n1neQOci",
        "outputId": "c4be41ff-1702-4957-e1e8-be0568839284"
      },
      "outputs": [
        {
          "output_type": "execute_result",
          "data": {
            "text/plain": [
              "{'A': 80, 'B': 70, 'C': 60, 'D': 50, '+B': 75}"
            ]
          },
          "metadata": {},
          "execution_count": 12
        }
      ],
      "source": [
        "grade['+B']=75 #เพิ่มค่าในdict\n",
        "grade"
      ]
    },
    {
      "cell_type": "code",
      "execution_count": null,
      "metadata": {
        "id": "KuXYLLXOJ7Zp"
      },
      "outputs": [],
      "source": [
        "#lสร้าง dict ค่าว่าง เพื่อเพิ่มหรืออัปเดตค่า key-value\n",
        "d={}\n",
        "d['s001']='perth' # key-value\n",
        "d['s002']='fon' # key-value\n",
        "d['s003']='namwan' # key-value"
      ]
    },
    {
      "cell_type": "code",
      "execution_count": null,
      "metadata": {
        "colab": {
          "base_uri": "https://localhost:8080/",
          "height": 34
        },
        "id": "ilPl2KyhKW-R",
        "outputId": "3c301b6f-40b6-4441-930f-c2ead731142d"
      },
      "outputs": [
        {
          "output_type": "execute_result",
          "data": {
            "text/plain": [
              "'namwan'"
            ],
            "application/vnd.google.colaboratory.intrinsic+json": {
              "type": "string"
            }
          },
          "metadata": {},
          "execution_count": 14
        }
      ],
      "source": [
        "d['s003']"
      ]
    },
    {
      "cell_type": "markdown",
      "metadata": {
        "id": "vh1f_eY3KfcZ"
      },
      "source": [
        "# Python string\n"
      ]
    },
    {
      "cell_type": "code",
      "execution_count": null,
      "metadata": {
        "id": "bvp5eukhKkEh"
      },
      "outputs": [],
      "source": [
        "sentence=' Hello Python.Im raedy .'  #สร้างตัวเเปรมาเก็บstr"
      ]
    },
    {
      "cell_type": "code",
      "source": [
        "sss='1111'"
      ],
      "metadata": {
        "id": "W49ES5L5kUPi"
      },
      "execution_count": null,
      "outputs": []
    },
    {
      "cell_type": "code",
      "source": [
        "sss.strip()#เเสดง str ทั้งหมด"
      ],
      "metadata": {
        "colab": {
          "base_uri": "https://localhost:8080/",
          "height": 34
        },
        "id": "j_C94_hnkXwk",
        "outputId": "6a1344b6-fcc7-416c-9188-56c58ece9690"
      },
      "execution_count": null,
      "outputs": [
        {
          "output_type": "execute_result",
          "data": {
            "text/plain": [
              "'1111'"
            ],
            "application/vnd.google.colaboratory.intrinsic+json": {
              "type": "string"
            }
          },
          "metadata": {},
          "execution_count": 18
        }
      ]
    },
    {
      "cell_type": "code",
      "execution_count": null,
      "metadata": {
        "colab": {
          "base_uri": "https://localhost:8080/",
          "height": 34
        },
        "id": "oKvcnstXK0q5",
        "outputId": "9e2c2745-9f11-477d-fc69-444544b6322a"
      },
      "outputs": [
        {
          "output_type": "execute_result",
          "data": {
            "text/plain": [
              "'H'"
            ],
            "application/vnd.google.colaboratory.intrinsic+json": {
              "type": "string"
            }
          },
          "metadata": {},
          "execution_count": 24
        }
      ],
      "source": [
        "sentence[1]"
      ]
    },
    {
      "cell_type": "code",
      "execution_count": null,
      "metadata": {
        "colab": {
          "base_uri": "https://localhost:8080/",
          "height": 34
        },
        "id": "HSkV49DrLNgZ",
        "outputId": "deaa68bd-465a-420f-f361-7cd2273462b9"
      },
      "outputs": [
        {
          "output_type": "execute_result",
          "data": {
            "text/plain": [
              "' Hello Python'"
            ],
            "application/vnd.google.colaboratory.intrinsic+json": {
              "type": "string"
            }
          },
          "metadata": {},
          "execution_count": 9
        }
      ],
      "source": [
        "sentence[0:13] #ตัวที่ 0 คือช่องว่าง"
      ]
    },
    {
      "cell_type": "code",
      "execution_count": null,
      "metadata": {
        "colab": {
          "base_uri": "https://localhost:8080/",
          "height": 34
        },
        "id": "_OPoRDB5LiOZ",
        "outputId": "f6e7f3fb-b8e3-4945-ec0b-0b50fe0bdeb0"
      },
      "outputs": [
        {
          "output_type": "execute_result",
          "data": {
            "text/plain": [
              "'Hello Python.Im raedy .'"
            ],
            "application/vnd.google.colaboratory.intrinsic+json": {
              "type": "string"
            }
          },
          "metadata": {},
          "execution_count": 26
        }
      ],
      "source": [
        "sentence.strip() #เเสดง str ทั้งหมด"
      ]
    },
    {
      "cell_type": "code",
      "execution_count": null,
      "metadata": {
        "id": "cLxGYn0BLvfp"
      },
      "outputs": [],
      "source": [
        "list_of_words=sentence.strip().split('Im') #เเสดง str ทั้งหมด splitคือการตัดคำที่เรากำหนดในวงเล็บ"
      ]
    },
    {
      "cell_type": "code",
      "execution_count": null,
      "metadata": {
        "colab": {
          "base_uri": "https://localhost:8080/",
          "height": 34
        },
        "id": "DBGctXeDMQE5",
        "outputId": "25f27274-20c3-4a5b-88c3-8b60cfbdc770"
      },
      "outputs": [
        {
          "output_type": "execute_result",
          "data": {
            "text/plain": [
              "'Hello Python.  raedy .'"
            ],
            "application/vnd.google.colaboratory.intrinsic+json": {
              "type": "string"
            }
          },
          "metadata": {},
          "execution_count": 29
        }
      ],
      "source": [
        "corgi=' '.join(list_of_words)\n",
        "corgi"
      ]
    },
    {
      "cell_type": "markdown",
      "metadata": {
        "id": "yapYDYbzMdCQ"
      },
      "source": [
        "For Loop\n"
      ]
    },
    {
      "cell_type": "code",
      "execution_count": null,
      "metadata": {
        "colab": {
          "base_uri": "https://localhost:8080/"
        },
        "id": "p8qPU_1mMf4p",
        "outputId": "7eaff597-de32-4016-befd-790d37e61b24"
      },
      "outputs": [
        {
          "output_type": "execute_result",
          "data": {
            "text/plain": [
              "['python', 1, 2, 3]"
            ]
          },
          "metadata": {},
          "execution_count": 47
        }
      ],
      "source": [
        "l #เรียกดูตัวเเปรเดิมมาดูค่า"
      ]
    },
    {
      "cell_type": "code",
      "execution_count": null,
      "metadata": {
        "colab": {
          "base_uri": "https://localhost:8080/"
        },
        "id": "OdF9cWDTMwvp",
        "outputId": "9f310530-c739-4fd5-a0fc-fc03978a6089"
      },
      "outputs": [
        {
          "output_type": "stream",
          "name": "stdout",
          "text": [
            "python\n",
            "1\n",
            "2\n",
            "3\n"
          ]
        }
      ],
      "source": [
        "for item in l: #การเเสดงค่าข้อมูลในarray\n",
        "  print(item)"
      ]
    },
    {
      "cell_type": "code",
      "execution_count": null,
      "metadata": {
        "colab": {
          "base_uri": "https://localhost:8080/"
        },
        "id": "L25DAEkjNDYJ",
        "outputId": "257c9708-2647-46ed-8803-8c03f62358da"
      },
      "outputs": [
        {
          "output_type": "stream",
          "name": "stdout",
          "text": [
            "1\n",
            "2\n",
            "3\n",
            "4\n",
            "5\n",
            "6\n",
            "7\n",
            "8\n",
            "9\n",
            "10\n"
          ]
        }
      ],
      "source": [
        "for i in range(10): #i เริ่มจ้นที่0\n",
        "  print(i+1)"
      ]
    },
    {
      "cell_type": "code",
      "execution_count": null,
      "metadata": {
        "id": "LKoSDwKWNomx"
      },
      "outputs": [],
      "source": [
        "list_t=[i for i in t] #list comprehension t(จำนวนรอบ)"
      ]
    },
    {
      "cell_type": "code",
      "execution_count": null,
      "metadata": {
        "colab": {
          "base_uri": "https://localhost:8080/"
        },
        "id": "x4SPz1pkN2_p",
        "outputId": "fb13f36f-07d3-4ece-f9b5-92e5a59d9502"
      },
      "outputs": [
        {
          "output_type": "execute_result",
          "data": {
            "text/plain": [
              "[1, 2, 3, 4, 5, 6, 7, 8, 9, 10, 11, 12, 13, 14]"
            ]
          },
          "metadata": {},
          "execution_count": 52
        }
      ],
      "source": [
        "[i+1 for i in range(14)]"
      ]
    },
    {
      "cell_type": "markdown",
      "metadata": {
        "id": "6n2TmmJROLtJ"
      },
      "source": [
        "# IF condition\n"
      ]
    },
    {
      "cell_type": "code",
      "execution_count": null,
      "metadata": {
        "colab": {
          "base_uri": "https://localhost:8080/"
        },
        "id": "7CakH2wgOQCK",
        "outputId": "db8ce5f7-de5f-4cbc-e92e-46ea3585a888"
      },
      "outputs": [
        {
          "output_type": "stream",
          "name": "stdout",
          "text": [
            "length inot equals 5\n"
          ]
        }
      ],
      "source": [
        "if len ==5:\n",
        "  print('length is 5')\n",
        "else:\n",
        "  print('length inot equals 5')"
      ]
    },
    {
      "cell_type": "code",
      "execution_count": null,
      "metadata": {
        "colab": {
          "base_uri": "https://localhost:8080/"
        },
        "id": "Awmn3tB5O6Dy",
        "outputId": "88c5354f-f26c-4021-ad6c-a25e667eda58"
      },
      "outputs": [
        {
          "output_type": "execute_result",
          "data": {
            "text/plain": [
              "{'A': 80, 'B': 70, 'C': 60, 'D': 50, '+B': 75}"
            ]
          },
          "metadata": {},
          "execution_count": 63
        }
      ],
      "source": [
        "grade #ทบทวนตัวเดิม"
      ]
    },
    {
      "cell_type": "code",
      "execution_count": null,
      "metadata": {
        "colab": {
          "base_uri": "https://localhost:8080/"
        },
        "id": "RYkxkJKnPOxS",
        "outputId": "7b2128f9-841f-44f2-b00f-f60d31311b19"
      },
      "outputs": [
        {
          "output_type": "stream",
          "name": "stdout",
          "text": [
            "+B\n"
          ]
        }
      ],
      "source": [
        "score = 75\n",
        "if score >=grade['A']:\n",
        "  print('A')\n",
        "  print('Good JoB!')\n",
        "elif score >=grade['+B']:\n",
        "  print('+B')\n",
        "elif score >=grade['B']:\n",
        "  print('B')\n",
        "elif score >=grade['C']:\n",
        "  print('C')\n",
        "elif score >=grade['D']:\n",
        "  print('D')\n",
        "elif score >=grade['F']:\n",
        "  print('F')"
      ]
    },
    {
      "cell_type": "markdown",
      "metadata": {
        "id": "UIFeEDBtIDSX"
      },
      "source": [
        "## Math"
      ]
    },
    {
      "cell_type": "code",
      "execution_count": null,
      "metadata": {
        "colab": {
          "base_uri": "https://localhost:8080/"
        },
        "id": "OEbfAuJ8IHQ_",
        "outputId": "f8cc778a-d52b-450b-f2d9-339ff18f6000"
      },
      "outputs": [
        {
          "output_type": "execute_result",
          "data": {
            "text/plain": [
              "3.141592653589793"
            ]
          },
          "metadata": {},
          "execution_count": 65
        }
      ],
      "source": [
        "import math\n",
        "math.pi"
      ]
    },
    {
      "cell_type": "markdown",
      "metadata": {
        "id": "U-gAkVGIIWfP"
      },
      "source": [
        "# Datetime"
      ]
    },
    {
      "cell_type": "code",
      "execution_count": null,
      "metadata": {
        "colab": {
          "base_uri": "https://localhost:8080/"
        },
        "id": "KwYfczFDIa1n",
        "outputId": "e48462ca-9482-449f-d08a-ced3676f695f"
      },
      "outputs": [
        {
          "output_type": "execute_result",
          "data": {
            "text/plain": [
              "datetime.datetime(2025, 1, 18, 10, 48, 36, 523664)"
            ]
          },
          "metadata": {},
          "execution_count": 13
        }
      ],
      "source": [
        "import datetime\n",
        "now=datetime.datetime.now()\n",
        "now"
      ]
    },
    {
      "cell_type": "code",
      "execution_count": null,
      "metadata": {
        "colab": {
          "base_uri": "https://localhost:8080/",
          "height": 34
        },
        "id": "eLGproriIsGI",
        "outputId": "7e78491e-3d46-40b8-d752-bfea5f4239d7"
      },
      "outputs": [
        {
          "output_type": "execute_result",
          "data": {
            "text/plain": [
              "'2025-01-18T07:28:47.028301'"
            ],
            "application/vnd.google.colaboratory.intrinsic+json": {
              "type": "string"
            }
          },
          "metadata": {},
          "execution_count": 68
        }
      ],
      "source": [
        "now.isoformat() #format เวลามาตราฐาน"
      ]
    },
    {
      "cell_type": "code",
      "execution_count": null,
      "metadata": {
        "colab": {
          "base_uri": "https://localhost:8080/"
        },
        "id": "B-fb3F3XJCvw",
        "outputId": "8792e295-7ca2-4f6d-ebf1-0c365bda024a"
      },
      "outputs": [
        {
          "output_type": "execute_result",
          "data": {
            "text/plain": [
              "datetime.datetime(2025, 1, 18, 10, 48, 54, 462205)"
            ]
          },
          "metadata": {},
          "execution_count": 14
        }
      ],
      "source": [
        "today=datetime.datetime.today()\n",
        "today"
      ]
    },
    {
      "cell_type": "code",
      "execution_count": null,
      "metadata": {
        "colab": {
          "base_uri": "https://localhost:8080/",
          "height": 34
        },
        "id": "pZa2e0BQJTPY",
        "outputId": "58292bc2-8019-44af-99fe-8ef6450781d6"
      },
      "outputs": [
        {
          "output_type": "execute_result",
          "data": {
            "text/plain": [
              "'2025-01-18T07:30:28.529098'"
            ],
            "application/vnd.google.colaboratory.intrinsic+json": {
              "type": "string"
            }
          },
          "metadata": {},
          "execution_count": 70
        }
      ],
      "source": [
        "today.isoformat()"
      ]
    },
    {
      "cell_type": "markdown",
      "metadata": {
        "id": "TR2M-ytSJapo"
      },
      "source": [
        "# Simple funtion"
      ]
    },
    {
      "cell_type": "code",
      "execution_count": null,
      "metadata": {
        "colab": {
          "base_uri": "https://localhost:8080/"
        },
        "id": "SwykISheJeX4",
        "outputId": "02dcaad9-dd06-4d85-f747-78c2dac7c52a"
      },
      "outputs": [
        {
          "output_type": "execute_result",
          "data": {
            "text/plain": [
              "50.24"
            ]
          },
          "metadata": {},
          "execution_count": 17
        }
      ],
      "source": [
        "def circle_area(radius): #funtion\n",
        "  return 3.14 * radius * radius\n",
        "\n",
        "circle_area(4)"
      ]
    },
    {
      "cell_type": "code",
      "execution_count": null,
      "metadata": {
        "colab": {
          "base_uri": "https://localhost:8080/"
        },
        "id": "OKgIsWLYKnhI",
        "outputId": "a55f8c0a-8acb-4422-d50d-03bb1c800d5e"
      },
      "outputs": [
        {
          "output_type": "execute_result",
          "data": {
            "text/plain": [
              "20"
            ]
          },
          "metadata": {},
          "execution_count": 18
        }
      ],
      "source": [
        "def rectangle_area(height,width):\n",
        "  return height*width\n",
        "\n",
        "rectangle_area(4,5)"
      ]
    },
    {
      "cell_type": "code",
      "execution_count": null,
      "metadata": {
        "colab": {
          "base_uri": "https://localhost:8080/"
        },
        "id": "pL44Qe8tLFfo",
        "outputId": "85166637-9f20-4d3c-a309-a134373df30b"
      },
      "outputs": [
        {
          "output_type": "execute_result",
          "data": {
            "text/plain": [
              "939.9"
            ]
          },
          "metadata": {},
          "execution_count": 16
        }
      ],
      "source": [
        "#สร้างฟังชั่นเพื่อเเปลค่าเงิน\n",
        "def conversion(amount,rate=31.33):\n",
        "  return amount*rate\n",
        "\n",
        "conversion(30)"
      ]
    },
    {
      "cell_type": "code",
      "execution_count": null,
      "metadata": {
        "colab": {
          "base_uri": "https://localhost:8080/"
        },
        "id": "2iofx8sbLfGH",
        "outputId": "7782a9a2-4025-4c50-8051-7af1ae954b2c"
      },
      "outputs": [
        {
          "output_type": "execute_result",
          "data": {
            "text/plain": [
              "1050"
            ]
          },
          "metadata": {},
          "execution_count": 19
        }
      ],
      "source": [
        "conversion(30,35)"
      ]
    },
    {
      "cell_type": "code",
      "execution_count": null,
      "metadata": {
        "id": "2v1wcsm0MaYP"
      },
      "outputs": [],
      "source": [
        "#การทำงาน\n",
        "file=open(\"output.csv\",'w') #เปิดไฟล์\n",
        "file.write(\"date,item,price\\n\")#เขียน\n",
        "file.write(\"2020-02.07,Mike,26.5\\n\")#เขียน\n",
        "file.write(\"2020-02.08,Water,7\\n\")#เขียน\n",
        "file.close()#ปิด"
      ]
    },
    {
      "cell_type": "code",
      "execution_count": null,
      "metadata": {
        "colab": {
          "base_uri": "https://localhost:8080/",
          "height": 34
        },
        "id": "n4zSK1hYNM6P",
        "outputId": "52c6e033-f677-4805-e64c-d7fb96c3cf21"
      },
      "outputs": [
        {
          "output_type": "execute_result",
          "data": {
            "text/plain": [
              "'date,item,price\\n'"
            ],
            "application/vnd.google.colaboratory.intrinsic+json": {
              "type": "string"
            }
          },
          "metadata": {},
          "execution_count": 21
        }
      ],
      "source": [
        "#loop การเขียน file จาก list ของ tuple\n",
        "header=('date','item','price')\n",
        "','.join(header)+'\\n'"
      ]
    },
    {
      "cell_type": "code",
      "execution_count": null,
      "metadata": {
        "colab": {
          "base_uri": "https://localhost:8080/",
          "height": 280
        },
        "id": "NiPqTQDVNt_n",
        "outputId": "f4eccde6-a569-44de-ab5d-d58babf7d89d"
      },
      "outputs": [
        {
          "output_type": "stream",
          "name": "stderr",
          "text": [
            "<>:3: SyntaxWarning: 'tuple' object is not callable; perhaps you missed a comma?\n",
            "<>:3: SyntaxWarning: 'tuple' object is not callable; perhaps you missed a comma?\n",
            "<ipython-input-22-27f984f72d95>:3: SyntaxWarning: 'tuple' object is not callable; perhaps you missed a comma?\n",
            "  (\"2020-02.07\",'Milk','26.5')\n"
          ]
        },
        {
          "output_type": "error",
          "ename": "TypeError",
          "evalue": "'tuple' object is not callable",
          "traceback": [
            "\u001b[0;31m---------------------------------------------------------------------------\u001b[0m",
            "\u001b[0;31mTypeError\u001b[0m                                 Traceback (most recent call last)",
            "\u001b[0;32m<ipython-input-22-27f984f72d95>\u001b[0m in \u001b[0;36m<cell line: 0>\u001b[0;34m()\u001b[0m\n\u001b[1;32m      1\u001b[0m \u001b[0mheader\u001b[0m\u001b[0;34m=\u001b[0m\u001b[0;34m(\u001b[0m\u001b[0;34m'date'\u001b[0m\u001b[0;34m,\u001b[0m\u001b[0;34m'item'\u001b[0m\u001b[0;34m,\u001b[0m\u001b[0;34m'price'\u001b[0m\u001b[0;34m)\u001b[0m\u001b[0;34m\u001b[0m\u001b[0;34m\u001b[0m\u001b[0m\n\u001b[1;32m      2\u001b[0m content=[\n\u001b[0;32m----> 3\u001b[0;31m     \u001b[0;34m(\u001b[0m\u001b[0;34m\"2020-02.07\"\u001b[0m\u001b[0;34m,\u001b[0m\u001b[0;34m'Milk'\u001b[0m\u001b[0;34m,\u001b[0m\u001b[0;34m'26.5'\u001b[0m\u001b[0;34m)\u001b[0m\u001b[0;34m\u001b[0m\u001b[0;34m\u001b[0m\u001b[0m\n\u001b[0m\u001b[1;32m      4\u001b[0m     \u001b[0;34m(\u001b[0m\u001b[0;34m\"2020-02.08\"\u001b[0m\u001b[0;34m,\u001b[0m\u001b[0;34m'Water'\u001b[0m\u001b[0;34m,\u001b[0m\u001b[0;34m'7'\u001b[0m\u001b[0;34m)\u001b[0m\u001b[0;34m\u001b[0m\u001b[0;34m\u001b[0m\u001b[0m\n\u001b[1;32m      5\u001b[0m     \u001b[0;34m(\u001b[0m\u001b[0;34m\"2020-02.08\"\u001b[0m\u001b[0;34m,\u001b[0m\u001b[0;34m'Mask'\u001b[0m\u001b[0;34m,\u001b[0m\u001b[0;34m'20'\u001b[0m\u001b[0;34m)\u001b[0m\u001b[0;34m\u001b[0m\u001b[0;34m\u001b[0m\u001b[0m\n",
            "\u001b[0;31mTypeError\u001b[0m: 'tuple' object is not callable"
          ]
        }
      ],
      "source": [
        "header=('date','item','price')\n",
        "content=[\n",
        "    (\"2020-02.07\",'Milk','26.5')\n",
        "    (\"2020-02.08\",'Water','7')\n",
        "    (\"2020-02.08\",'Mask','20')\n",
        "    (\"2020-02.08\",'Lays','10')\n",
        "    (\"2020-02.08\",'Rice','6')\n",
        "]\n",
        "file=open('products.csv','w')\n",
        "file.write(',',join(header)+'\\n')\n",
        "\n",
        "for row in content:\n",
        "  file.write(',',join(row)+'\\n')\n",
        "\n",
        "file.close()"
      ]
    }
  ],
  "metadata": {
    "colab": {
      "provenance": [],
      "toc_visible": true
    },
    "kernelspec": {
      "display_name": "Python 3",
      "name": "python3"
    },
    "language_info": {
      "name": "python"
    }
  },
  "nbformat": 4,
  "nbformat_minor": 0
}